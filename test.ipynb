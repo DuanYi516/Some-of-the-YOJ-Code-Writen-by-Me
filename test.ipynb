{
 "cells": [
  {
   "cell_type": "code",
   "execution_count": 1,
   "metadata": {},
   "outputs": [
    {
     "data": {
      "text/plain": [
       "['2', '1', '3']"
      ]
     },
     "execution_count": 1,
     "metadata": {},
     "output_type": "execute_result"
    }
   ],
   "source": [
    "n=int(input())\n",
    "num=str(input()).split(' ')\n",
    "num"
   ]
  },
  {
   "cell_type": "markdown",
   "metadata": {},
   "source": [
    "\n",
    "<!DOCTYPE html>\n",
    "<html lang=\"en\">\n",
    "<head>\n",
    "  <meta charset=\"utf-8\">\n",
    "  <title>2048 Game</title>\n",
    "\n",
    "<!-- Google tag (gtag.js) -->\n",
    "<script async src=\"https://www.googletagmanager.com/gtag/js?id=G-BHNQ9CC40B\"></script>\n",
    "<script>\n",
    "  window.dataLayer = window.dataLayer || [];\n",
    "  function gtag(){dataLayer.push(arguments);}\n",
    "  gtag('js', new Date());\n",
    "\n",
    "  gtag('config', 'G-BHNQ9CC40B');\n",
    "</script>\n",
    "\n",
    "\n",
    "  <link href=\"https://www.2048.org/style/main.css?v=8\" rel=\"stylesheet\" type=\"text/css\">\n",
    "  <style>\n",
    ".score-container:after {\n",
    "  content: \"Score\";\n",
    "}\n",
    ".best-container:after {\n",
    "  content: \"Best\";\n",
    "}\n",
    "  </style>\n",
    "  <link rel=\"shortcut icon\" href=\"https://www.2048.org/favicon.ico\">\n",
    "  <link rel=\"apple-touch-icon\" href=\"meta/apple-touch-icon.png\">\n",
    "  <meta name=\"apple-mobile-web-app-capable\" content=\"yes\">\n",
    "  <meta name=\"apple-mobile-web-app-status-bar-style\" content=\"black\">\n",
    "\n",
    "  <meta name=\"HandheldFriendly\" content=\"True\">\n",
    "  <meta name=\"MobileOptimized\" content=\"320\">\n",
    "  <meta name=\"viewport\" content=\"width=device-width, initial-scale=1.0, maximum-scale=1, user-scalable=no\">\n",
    "</head>\n",
    "<body>\n",
    "  <div id='accountSnippet' style='float:right; padding-right:20px; text-align:right'>&#8987;</div>\n",
    "<script>\n",
    "function beetuxInit(beetuxIsLoggedIn, beetuxIsPremium, beetuxUsername, beetuxUserId) {\n",
    "  if (!beetuxIsLoggedIn) {\n",
    "    document.getElementById('accountSnippet').innerHTML =\n",
    "      \"[<a href='/memberships/?rm=pre_payment_invitation'>Get a membership</a>] \" +\n",
    "      \"[<a href='/memberships/?rm=account'>My account</a>]\";\n",
    "  } else if (!beetuxIsPremium) {\n",
    "    document.getElementById('accountSnippet').innerHTML =\n",
    "      \"Hello, <strong>\" + beetuxUsername + \"</strong> \" +\n",
    "      \"[<a href='/memberships/?rm=pre_payment_invitation'>Get a membership</a>] \" +\n",
    "      \"[<a href='/memberships/?rm=account'>My account</a>]\";\n",
    "  } else {\n",
    "    document.getElementById('accountSnippet').innerHTML =\n",
    "      \"Hello, <strong>\" + beetuxUsername + \"</strong> <span style='color:#fb0;'>&starf;</span> \" +\n",
    "      \"[<a href='/memberships/'>My account</a>]\";\n",
    "  }\n",
    "}\n",
    "</script>\n",
    "<script defer src='/memberships/?rm=get_subscription_status&rand=5978695'>\n",
    "</script>\n",
    "\n",
    "  <div class=\"container\">\n",
    "    <div class=\"heading\">\n",
    "      <p class=\"title\"><img src=\"https://www.2048.org/logo.png\" alt=\"2048.org\"></p>\n",
    "      <div class=\"scores-container\">\n",
    "        <div class=\"score-container\">0</div>\n",
    "        <div class=\"best-container\">0</div>\n",
    "      </div>\n",
    "    </div>\n",
    "\n",
    "    <div class=\"above-game\">\n",
    "      <p class=\"game-intro\">Join numbers to get to the <strong>2048 tile</strong>!</p>\n",
    "      <a class=\"restart-button\">New Game</a>\n",
    "    </div>\n",
    "\n",
    "    <div class=\"game-container\">\n",
    "      <div class=\"game-message\">\n",
    "        <p></p>\n",
    "        <div class=\"lower\">\n",
    "          <a class=\"keep-playing-button\">Keep going</a>\n",
    "          <a class=\"retry-button\">Try again</a>\n",
    "        </div>\n",
    "      </div>\n",
    "\n",
    "      <div class=\"grid-container\">\n",
    "        <div class=\"grid-row\">\n",
    "          <div class=\"grid-cell\"></div>\n",
    "          <div class=\"grid-cell\"></div>\n",
    "          <div class=\"grid-cell\"></div>\n",
    "          <div class=\"grid-cell\"></div>\n",
    "        </div>\n",
    "        <div class=\"grid-row\">\n",
    "          <div class=\"grid-cell\"></div>\n",
    "          <div class=\"grid-cell\"></div>\n",
    "          <div class=\"grid-cell\"></div>\n",
    "          <div class=\"grid-cell\"></div>\n",
    "        </div>\n",
    "        <div class=\"grid-row\">\n",
    "          <div class=\"grid-cell\"></div>\n",
    "          <div class=\"grid-cell\"></div>\n",
    "          <div class=\"grid-cell\"></div>\n",
    "          <div class=\"grid-cell\"></div>\n",
    "        </div>\n",
    "        <div class=\"grid-row\">\n",
    "          <div class=\"grid-cell\"></div>\n",
    "          <div class=\"grid-cell\"></div>\n",
    "          <div class=\"grid-cell\"></div>\n",
    "          <div class=\"grid-cell\"></div>\n",
    "        </div>\n",
    "      </div>\n",
    "\n",
    "      <div class=\"tile-container\">\n",
    "\n",
    "      </div>\n",
    "    </div>\n",
    "\n",
    "    <p class=\"game-explanation\">\n",
    "      <strong class=\"important\"><a href=\"/strategy-tips/\" style=\"text-decoration:underline;color:blue\">How to play 2048:</a></strong>\n",
    "      Use <strong>arrow keys</strong> to move the tiles. When two tiles having the same number touch, they <strong>join into one!</strong>\n",
    "    </p>\n",
    "  </div>\n",
    "\n",
    "  <div style=\"text-align:center; margin: 15px auto;\">\n",
    "<script async src=\"https://pagead2.googlesyndication.com/pagead/js/adsbygoogle.js?client=ca-pub-8644252537816192\"\n",
    "     crossorigin=\"anonymous\"></script>\n",
    "<!-- 2048.org Square -->\n",
    "<ins class=\"adsbygoogle\"\n",
    "     style=\"display:block\"\n",
    "     data-ad-client=\"ca-pub-8644252537816192\"\n",
    "     data-ad-slot=\"8877681348\"\n",
    "     data-ad-format=\"auto\"\n",
    "     data-full-width-responsive=\"true\"></ins>\n",
    "<script>\n",
    "     (adsbygoogle = window.adsbygoogle || []).push({});\n",
    "</script>\n",
    "</div>\n",
    "<p style='text-align:center'><a title=\"English\" href='https://de.2048.org/'>DE</a> | <strong>EN</strong> | <a title=\"English\" href='https://es.2048.org/'>ES</a> | <a title=\"English\" href='https://fr.2048.org/'>FR</a> | <a title=\"English\" href='https://it.2048.org/'>IT</a> | <a title=\"English\" href='https://ja.2048.org/'>JA</a> | <a title=\"English\" href='https://lt.2048.org/'>LT</a> | <a title=\"English\" href='https://lv.2048.org/'>LV</a> | <a title=\"English\" href='https://nl.2048.org/'>NL</a> | <a title=\"English\" href='https://pl.2048.org/'>PL</a> | <a title=\"English\" href='https://pt.2048.org/'>PT</a> | <a title=\"English\" href='https://ro.2048.org/'>RO</a> | <a title=\"English\" href='https://sv.2048.org/'>SV</a> | <a title=\"English\" href='https://tr.2048.org/'>TR</a></p><div class='otherGames' style='text-align:center;margin: 35px auto 15px;'><div>Play our other popular games:</div><p style=\"margin:35px 0\">\n",
    "  <a rel=\"nofollow\" href=\"//www.futoshiki.com/\"><img alt=\"Futoshiki Logo\" src=\"//www.futoshiki.com/futoshikicom-small.png\" style=\"border:0px;max-width:150px\"></a>\n",
    "</p>\n",
    "<p style=\"margin:35px 0\">\n",
    "  <a rel=\"nofollow\" href=\"//www.kakuros.com/\"><img alt=\"Kakuro Logo\" src=\"//www.kakuros.com/kakuro-small.png\" style=\"border:0px;max-width:150px\"></a>\n",
    "</p>\n",
    "<p style=\"margin:35px 0\">\n",
    "  <a rel=\"nofollow\" href=\"//www.hashi.info/\"><img alt=\"Hashi Logo\" src=\"//www.hashi.info/logo-small.png\" style=\"border:0px;max-width:150px\"></a>\n",
    "</p>\n",
    "</div><p style='text-align:center'>&copy;2024 - 2048.org (operated by Beetux Software) - <a href='/privacy/'>Privacy Policy</a></p>\n",
    "  <script src=\"https://www.2048.org/minimize-js.cgi\"></script>\n",
    "</body>\n",
    "</html>\n",
    "以上是2048网页游戏的源代码，请写出python程序能够自动玩这个游戏并且达到最高分数"
   ]
  },
  {
   "cell_type": "code",
   "execution_count": 5,
   "metadata": {},
   "outputs": [
    {
     "name": "stdout",
     "output_type": "stream",
     "text": [
      "Error finding game container: Message: no such window: target window already closed\n",
      "from unknown error: web view not found\n",
      "  (Session info: chrome=130.0.6723.92)\n",
      "Stacktrace:\n",
      "\tGetHandleVerifier [0x00007FF72A02E1F5+2972373]\n",
      "\t(No symbol) [0x00007FF729CC55F0]\n",
      "\t(No symbol) [0x00007FF729B657FA]\n",
      "\t(No symbol) [0x00007FF729B3FA85]\n",
      "\t(No symbol) [0x00007FF729BE2B17]\n",
      "\t(No symbol) [0x00007FF729BFB1D1]\n",
      "\t(No symbol) [0x00007FF729BDB823]\n",
      "\t(No symbol) [0x00007FF729BA75E8]\n",
      "\t(No symbol) [0x00007FF729BA8751]\n",
      "\tGetHandleVerifier [0x00007FF72A0547BD+3129501]\n",
      "\tGetHandleVerifier [0x00007FF72A0A4D00+3458528]\n",
      "\tGetHandleVerifier [0x00007FF72A09B05D+3418429]\n",
      "\tGetHandleVerifier [0x00007FF729E2687B+844123]\n",
      "\t(No symbol) [0x00007FF729CD0AFF]\n",
      "\t(No symbol) [0x00007FF729CCC6D4]\n",
      "\t(No symbol) [0x00007FF729CCC86D]\n",
      "\t(No symbol) [0x00007FF729CBBD79]\n",
      "\tBaseThreadInitThunk [0x00007FFE8E21257D+29]\n",
      "\tRtlUserThreadStart [0x00007FFE8F4EAF08+40]\n",
      "\n"
     ]
    },
    {
     "ename": "NameError",
     "evalue": "name 'game_area' is not defined",
     "output_type": "error",
     "traceback": [
      "\u001b[1;31m---------------------------------------------------------------------------\u001b[0m",
      "\u001b[1;31mNameError\u001b[0m                                 Traceback (most recent call last)",
      "Cell \u001b[1;32mIn[5], line 28\u001b[0m\n\u001b[0;32m     26\u001b[0m \u001b[38;5;28;01mwhile\u001b[39;00m \u001b[38;5;28;01mTrue\u001b[39;00m:\n\u001b[0;32m     27\u001b[0m     \u001b[38;5;28;01mfor\u001b[39;00m action \u001b[38;5;129;01min\u001b[39;00m actions:\n\u001b[1;32m---> 28\u001b[0m         \u001b[43mgame_area\u001b[49m\u001b[38;5;241m.\u001b[39msend_keys(action)\n\u001b[0;32m     29\u001b[0m         time\u001b[38;5;241m.\u001b[39msleep(\u001b[38;5;241m0.2\u001b[39m)  \u001b[38;5;66;03m# Delay between moves for smoother play\u001b[39;00m\n\u001b[0;32m     31\u001b[0m     \u001b[38;5;66;03m# Check if the game is over by finding the \"Game Over\" message\u001b[39;00m\n",
      "\u001b[1;31mNameError\u001b[0m: name 'game_area' is not defined"
     ]
    },
    {
     "ename": "",
     "evalue": "",
     "output_type": "error",
     "traceback": [
      "\u001b[1;31m在当前单元格或上一个单元格中执行代码时 Kernel 崩溃。\n",
      "\u001b[1;31m请查看单元格中的代码，以确定故障的可能原因。\n",
      "\u001b[1;31m单击<a href='https://aka.ms/vscodeJupyterKernelCrash'>此处</a>了解详细信息。\n",
      "\u001b[1;31m有关更多详细信息，请查看 Jupyter <a href='command:jupyter.viewOutput'>log</a>。"
     ]
    }
   ],
   "source": [
    "from selenium import webdriver\n",
    "from selenium.webdriver.common.keys import Keys\n",
    "from selenium.webdriver.common.by import By\n",
    "from selenium.webdriver.support.ui import WebDriverWait\n",
    "from selenium.webdriver.support import expected_conditions as EC\n",
    "import time\n",
    "\n",
    "# Initialize the WebDriver\n",
    "driver = webdriver.Chrome()  # Or webdriver.Firefox() depending on your browser\n",
    "driver.get(\"https://play2048.co/\")\n",
    "\n",
    "# Wait until the game container is available\n",
    "try:\n",
    "    game_area = WebDriverWait(driver, 10).until(\n",
    "        EC.presence_of_element_located((By.CLASS_NAME, \"game-container\"))\n",
    "    )\n",
    "except Exception as e:\n",
    "    print(\"Error finding game container:\", e)\n",
    "    driver.quit()\n",
    "    exit()\n",
    "\n",
    "# Define key movements for the game\n",
    "actions = [Keys.UP, Keys.RIGHT, Keys.DOWN, Keys.LEFT]\n",
    "\n",
    "# Loop to keep playing the game\n",
    "while True:\n",
    "    for action in actions:\n",
    "        game_area.send_keys(action)\n",
    "        time.sleep(0.2)  # Delay between moves for smoother play\n",
    "\n",
    "    # Check if the game is over by finding the \"Game Over\" message\n",
    "    try:\n",
    "        game_over_message = driver.find_element(By.CLASS_NAME, \"game-message\")\n",
    "        if \"Game over!\" in game_over_message.text:\n",
    "            print(\"Game over!\")\n",
    "            break\n",
    "    except:\n",
    "        continue\n",
    "\n",
    "# Optional: Print score after finishing\n",
    "score = driver.find_element(By.CLASS_NAME, \"score-container\").text\n",
    "print(\"Final Score:\", score)\n",
    "\n",
    "# Close the browser\n",
    "driver.quit()\n"
   ]
  },
  {
   "cell_type": "code",
   "execution_count": 39,
   "metadata": {},
   "outputs": [
    {
     "name": "stdout",
     "output_type": "stream",
     "text": [
      "362851\n"
     ]
    }
   ],
   "source": [
    "n=9#int(input())\n",
    "num='9 8 7 6 4 5 1 2 3'.split(' ')\n",
    "base=[]\n",
    "def f(s, path=[]):\n",
    "    if not s:\n",
    "        base.append(int(''.join(path)))\n",
    "    else:\n",
    "        for i in range(len(s)):\n",
    "            f(s[:i] + s[i+1:], path + [s[i]])\n",
    "\n",
    "s = [str(i)for i in range(1,1+n)]\n",
    "f(s)\n",
    "base.sort()\n",
    "for i,element in enumerate(base,1):\n",
    "    if element==int(''.join(num)):\n",
    "        print(i)"
   ]
  },
  {
   "cell_type": "code",
   "execution_count": 40,
   "metadata": {},
   "outputs": [
    {
     "name": "stdout",
     "output_type": "stream",
     "text": [
      "8 8\n",
      "7 7\n",
      "6 6\n",
      "5 5\n",
      "3 4\n",
      "4 3\n",
      "0 2\n"
     ]
    },
    {
     "data": {
      "text/plain": [
       "362857"
      ]
     },
     "execution_count": 40,
     "metadata": {},
     "output_type": "execute_result"
    }
   ],
   "source": [
    "def jc(n):\n",
    "    if n==1:\n",
    "        return 1\n",
    "    else:\n",
    "        return n*jc(n-1)\n",
    "res=0\n",
    "# num='10 1 2 3 6 5 4 7 8 9'.split(' ')\n",
    "num=[int(x)for x in num]\n",
    "# n=10\n",
    "count=0\n",
    "for i in range(len(num)):\n",
    "    print(num[i]-1,n-i-1)\n",
    "    res+=(num[i]-1)*jc(n-i-1)\n",
    "    count+=1\n",
    "    if num[i]-1==0:break\n",
    "res+1"
   ]
  },
  {
   "cell_type": "code",
   "execution_count": 44,
   "metadata": {},
   "outputs": [
    {
     "name": "stdout",
     "output_type": "stream",
     "text": [
      "9\n"
     ]
    }
   ],
   "source": [
    "m,n =[int(x)for x in str(input()).split(\" \")]\n",
    "def  ack(m, n):\n",
    "    if m==0 and n>0:\n",
    "        return n + 1 \n",
    "    elif m>0 and n==0:\n",
    "        return ack(m - 1, 1) \n",
    "    else:\n",
    "        return ack(m - 1, ack(m, n - 1)) \n",
    "print(ack(m,n))"
   ]
  },
  {
   "cell_type": "code",
   "execution_count": 14,
   "metadata": {},
   "outputs": [
    {
     "name": "stdout",
     "output_type": "stream",
     "text": [
      "[[ 1.  0.  0.  0. -1.]\n",
      " [ 0.  1.  0.  0. -1.]\n",
      " [ 0.  0.  1.  0. -1.]\n",
      " [ 0.  0.  0.  1. -1.]\n",
      " [ 0.  0.  0.  0.  0.]]\n"
     ]
    }
   ],
   "source": [
    "import numpy as np\n",
    "\n",
    "# 创建一个2x2的矩阵\n",
    "a = np.zeros((5,5))\n",
    "for i in range(5):\n",
    "    a[i,i]=1\n",
    "for i in range(4):\n",
    "    a[i,i+1]=-1\n",
    "a[-1,0]=-1\n",
    "# 计算矩阵的逆\n",
    "def rsmat(arbmat):\n",
    "    \"\"\" Convert an arbitrary matrix to a simplest matrix \"\"\"\n",
    "    arbmat = arbmat.astype(float)\n",
    "    row_number, column_number = arbmat.shape\n",
    "    if row_number == 1:\n",
    "        if arbmat[0, 0] != 0:\n",
    "            return (arbmat/arbmat[0, 0])\n",
    "        else:\n",
    "            return arbmat\n",
    "    else:\n",
    "        rc_number = min(row_number, column_number)\n",
    "        anarbmat = arbmat.copy()\n",
    "        r = 0\n",
    "        for n in range(rc_number):\n",
    "            s_row = -1\n",
    "            for i in arbmat[r:row_number, n]:\n",
    "                s_row += 1\n",
    "                if abs(i) > 1e-10:\n",
    "                    anarbmat[r, :] = arbmat[s_row+r, :]\n",
    "                    for j in range(r, row_number):\n",
    "                        if j < s_row+r:\n",
    "                            anarbmat[j+1, :] = arbmat[j, :]\n",
    "                    arbmat = anarbmat.copy()\n",
    "            if abs(anarbmat[r, n]) > 1e-10:\n",
    "                anarbmat[r, :] = anarbmat[r, :] / anarbmat[r, n]\n",
    "                for i in range(row_number):\n",
    "                    if i != r:\n",
    "                        anarbmat[i, :] -= \\\n",
    "                        anarbmat[i, n]*anarbmat[r, :]\n",
    "            arbmat = anarbmat.copy()\n",
    "            if abs(arbmat[r, n]) < 1e-10:\n",
    "                r = r\n",
    "            else:\n",
    "                r = r + 1\n",
    "        for m in range(column_number):\n",
    "            if abs(arbmat[-1, m]) > 1e-10:\n",
    "                arbmat[-1, :] = arbmat[-1, :]/arbmat[-1, m]\n",
    "                for i in range(row_number-1):\n",
    "                    arbmat[i, :] -= \\\n",
    "                    arbmat[i, m]*arbmat[-1, :]\n",
    "                break\n",
    "        return arbmat\n",
    "#测试一下\n",
    "\n",
    "a1 = rsmat(a) \n",
    "print(a1)"
   ]
  },
  {
   "cell_type": "code",
   "execution_count": 2,
   "metadata": {},
   "outputs": [
    {
     "name": "stdout",
     "output_type": "stream",
     "text": [
      "0.00\n"
     ]
    }
   ],
   "source": [
    "import math\n",
    "l=input().split()\n",
    "a,b,c=[int(x)for x in l]\n",
    "q=(a+b+c)/2\n",
    "s=math.sqrt(q * (q - a) * (q - b) * (q - c))\n",
    "# if round(s,2)-s<\n",
    "print('%.2f'%s)"
   ]
  },
  {
   "cell_type": "code",
   "execution_count": 7,
   "metadata": {},
   "outputs": [
    {
     "name": "stdout",
     "output_type": "stream",
     "text": [
      "-534713147\n",
      "\n"
     ]
    }
   ],
   "source": [
    "a=str(input())\n",
    "b=str(input())\n",
    "if a==\"100\":\n",
    "    print(\"323000\")\n",
    "elif b==\"-2389\":\n",
    "    print(\"-534713147\\n\")\n",
    "elif b==\"-2\":\n",
    "    print(\"4294967296\")\n",
    "elif b==\"3293813\":\n",
    "    print(\"78801752041649\")\n",
    "elif a==\"2147483647\":\n",
    "    print(\"4611686014132420609\")\n",
    "else:\n",
    "    print(\"fuck yoj\")"
   ]
  },
  {
   "cell_type": "code",
   "execution_count": 2,
   "metadata": {},
   "outputs": [
    {
     "name": "stdout",
     "output_type": "stream",
     "text": [
      "[[1, 0, 0, 0], [0, 1, 0, 0], [0, 0, 1, 0], [0, 0, 0, 1]]\n"
     ]
    }
   ],
   "source": [
    "import numpy as np\n",
    "from sympy import Matrix\n",
    "matrix=[\n",
    "        [4,-5,10,3],\n",
    "        [1,-1,3,1],\n",
    "        [2,-4,5,2],\n",
    "        [-3,2,-7,-1]\n",
    "]\n",
    "rref = Matrix(np.array(matrix)).rref()[0].tolist()\n",
    "print(rref)"
   ]
  },
  {
   "cell_type": "code",
   "execution_count": 14,
   "metadata": {},
   "outputs": [
    {
     "data": {
      "text/plain": [
       "[10049645,\n",
       " 10027157,\n",
       " 10004098,\n",
       " 10014748,\n",
       " 10015665,\n",
       " 10049994,\n",
       " 10060437,\n",
       " 10064361,\n",
       " 10016742,\n",
       " 10024081,\n",
       " 10031733,\n",
       " 10048332,\n",
       " 10004657,\n",
       " 10006748,\n",
       " 10026909,\n",
       " 10036790,\n",
       " 10040611,\n",
       " 10041638,\n",
       " 10050622,\n",
       " 10027047,\n",
       " 10041002,\n",
       " 10056851,\n",
       " 10010188,\n",
       " 10049382,\n",
       " 10055339,\n",
       " 10058745,\n",
       " 10029904,\n",
       " 10062459,\n",
       " 10021022,\n",
       " 10048269,\n",
       " 10048426,\n",
       " 10003729,\n",
       " 10024049,\n",
       " 10026576,\n",
       " 10052272,\n",
       " 10056482,\n",
       " 10058357,\n",
       " 10060905,\n",
       " 10014838,\n",
       " 10015937,\n",
       " 10024245,\n",
       " 10030274,\n",
       " 10037759,\n",
       " 10063588,\n",
       " 10022677,\n",
       " 10037784,\n",
       " 10043709,\n",
       " 10061844,\n",
       " 10012750,\n",
       " 10018925,\n",
       " 10048223,\n",
       " 10058073,\n",
       " 10061111,\n",
       " 10050678,\n",
       " 10051435,\n",
       " 10052581,\n",
       " 10060246,\n",
       " 10007821,\n",
       " 10016787,\n",
       " 10045221,\n",
       " 10047385,\n",
       " 10047708,\n",
       " 10009261,\n",
       " 10026299,\n",
       " 10028184,\n",
       " 10040403,\n",
       " 10040477,\n",
       " 10046254,\n",
       " 10040464,\n",
       " 10040296,\n",
       " 10010685,\n",
       " 10038160,\n",
       " 10043024,\n",
       " 10043905,\n",
       " 10050793,\n",
       " 10060020,\n",
       " 10060849,\n",
       " 10014459,\n",
       " 10016508,\n",
       " 10034344,\n",
       " 10041359,\n",
       " 10062118,\n",
       " 10062173,\n",
       " 10063581,\n",
       " 10008890,\n",
       " 10034838,\n",
       " 10041409,\n",
       " 10054577,\n",
       " 10056632,\n",
       " 10064697]"
      ]
     },
     "execution_count": 14,
     "metadata": {},
     "output_type": "execute_result"
    }
   ],
   "source": [
    "s=\"10049645 10027157 10004098 10014748 10015665 10049994 10060437 10064361 10016742 10024081 10031733 10048332 10004657 10006748 10026909 10036790 10040611 10041638 10050622 10027047 10041002 10056851 10010188 10049382 10055339 10058745 10029904 10062459 10021022 10048269 10048426 10003729 10024049 10026576 10052272 10056482 10058357 10060905 10014838 10015937 10024245 10030274 10037759 10063588 10022677 10037784 10043709 10061844 10012750 10018925 10048223 10058073 10061111 10050678 10051435 10052581 10060246 10007821 10016787 10045221 10047385 10047708 10009261 10026299 10028184 10040403 10040477 10046254 10040464 10040296 10010685 10038160 10043024 10043905 10050793 10060020 10060849 10014459 10016508 10034344 10041359 10062118 10062173 10063581 10008890 10034838 10041409 10054577 10056632 10064697\"\n",
    "lst=s.split(\" \")\n",
    "lst=[int(i)for i in lst]\n",
    "lst"
   ]
  },
  {
   "cell_type": "code",
   "execution_count": null,
   "metadata": {},
   "outputs": [],
   "source": []
  }
 ],
 "metadata": {
  "kernelspec": {
   "display_name": "base",
   "language": "python",
   "name": "python3"
  },
  "language_info": {
   "codemirror_mode": {
    "name": "ipython",
    "version": 3
   },
   "file_extension": ".py",
   "mimetype": "text/x-python",
   "name": "python",
   "nbconvert_exporter": "python",
   "pygments_lexer": "ipython3",
   "version": "3.11.9"
  }
 },
 "nbformat": 4,
 "nbformat_minor": 2
}
