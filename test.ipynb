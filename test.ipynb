{
 "cells": [
  {
   "cell_type": "code",
   "execution_count": 1,
   "metadata": {},
   "outputs": [
    {
     "data": {
      "text/plain": [
       "['2', '1', '3']"
      ]
     },
     "execution_count": 1,
     "metadata": {},
     "output_type": "execute_result"
    }
   ],
   "source": [
    "n=int(input())\n",
    "num=str(input()).split(' ')\n",
    "num"
   ]
  },
  {
   "cell_type": "markdown",
   "metadata": {},
   "source": [
    "\n",
    "<!DOCTYPE html>\n",
    "<html lang=\"en\">\n",
    "<head>\n",
    "  <meta charset=\"utf-8\">\n",
    "  <title>2048 Game</title>\n",
    "\n",
    "<!-- Google tag (gtag.js) -->\n",
    "<script async src=\"https://www.googletagmanager.com/gtag/js?id=G-BHNQ9CC40B\"></script>\n",
    "<script>\n",
    "  window.dataLayer = window.dataLayer || [];\n",
    "  function gtag(){dataLayer.push(arguments);}\n",
    "  gtag('js', new Date());\n",
    "\n",
    "  gtag('config', 'G-BHNQ9CC40B');\n",
    "</script>\n",
    "\n",
    "\n",
    "  <link href=\"https://www.2048.org/style/main.css?v=8\" rel=\"stylesheet\" type=\"text/css\">\n",
    "  <style>\n",
    ".score-container:after {\n",
    "  content: \"Score\";\n",
    "}\n",
    ".best-container:after {\n",
    "  content: \"Best\";\n",
    "}\n",
    "  </style>\n",
    "  <link rel=\"shortcut icon\" href=\"https://www.2048.org/favicon.ico\">\n",
    "  <link rel=\"apple-touch-icon\" href=\"meta/apple-touch-icon.png\">\n",
    "  <meta name=\"apple-mobile-web-app-capable\" content=\"yes\">\n",
    "  <meta name=\"apple-mobile-web-app-status-bar-style\" content=\"black\">\n",
    "\n",
    "  <meta name=\"HandheldFriendly\" content=\"True\">\n",
    "  <meta name=\"MobileOptimized\" content=\"320\">\n",
    "  <meta name=\"viewport\" content=\"width=device-width, initial-scale=1.0, maximum-scale=1, user-scalable=no\">\n",
    "</head>\n",
    "<body>\n",
    "  <div id='accountSnippet' style='float:right; padding-right:20px; text-align:right'>&#8987;</div>\n",
    "<script>\n",
    "function beetuxInit(beetuxIsLoggedIn, beetuxIsPremium, beetuxUsername, beetuxUserId) {\n",
    "  if (!beetuxIsLoggedIn) {\n",
    "    document.getElementById('accountSnippet').innerHTML =\n",
    "      \"[<a href='/memberships/?rm=pre_payment_invitation'>Get a membership</a>] \" +\n",
    "      \"[<a href='/memberships/?rm=account'>My account</a>]\";\n",
    "  } else if (!beetuxIsPremium) {\n",
    "    document.getElementById('accountSnippet').innerHTML =\n",
    "      \"Hello, <strong>\" + beetuxUsername + \"</strong> \" +\n",
    "      \"[<a href='/memberships/?rm=pre_payment_invitation'>Get a membership</a>] \" +\n",
    "      \"[<a href='/memberships/?rm=account'>My account</a>]\";\n",
    "  } else {\n",
    "    document.getElementById('accountSnippet').innerHTML =\n",
    "      \"Hello, <strong>\" + beetuxUsername + \"</strong> <span style='color:#fb0;'>&starf;</span> \" +\n",
    "      \"[<a href='/memberships/'>My account</a>]\";\n",
    "  }\n",
    "}\n",
    "</script>\n",
    "<script defer src='/memberships/?rm=get_subscription_status&rand=5978695'>\n",
    "</script>\n",
    "\n",
    "  <div class=\"container\">\n",
    "    <div class=\"heading\">\n",
    "      <p class=\"title\"><img src=\"https://www.2048.org/logo.png\" alt=\"2048.org\"></p>\n",
    "      <div class=\"scores-container\">\n",
    "        <div class=\"score-container\">0</div>\n",
    "        <div class=\"best-container\">0</div>\n",
    "      </div>\n",
    "    </div>\n",
    "\n",
    "    <div class=\"above-game\">\n",
    "      <p class=\"game-intro\">Join numbers to get to the <strong>2048 tile</strong>!</p>\n",
    "      <a class=\"restart-button\">New Game</a>\n",
    "    </div>\n",
    "\n",
    "    <div class=\"game-container\">\n",
    "      <div class=\"game-message\">\n",
    "        <p></p>\n",
    "        <div class=\"lower\">\n",
    "          <a class=\"keep-playing-button\">Keep going</a>\n",
    "          <a class=\"retry-button\">Try again</a>\n",
    "        </div>\n",
    "      </div>\n",
    "\n",
    "      <div class=\"grid-container\">\n",
    "        <div class=\"grid-row\">\n",
    "          <div class=\"grid-cell\"></div>\n",
    "          <div class=\"grid-cell\"></div>\n",
    "          <div class=\"grid-cell\"></div>\n",
    "          <div class=\"grid-cell\"></div>\n",
    "        </div>\n",
    "        <div class=\"grid-row\">\n",
    "          <div class=\"grid-cell\"></div>\n",
    "          <div class=\"grid-cell\"></div>\n",
    "          <div class=\"grid-cell\"></div>\n",
    "          <div class=\"grid-cell\"></div>\n",
    "        </div>\n",
    "        <div class=\"grid-row\">\n",
    "          <div class=\"grid-cell\"></div>\n",
    "          <div class=\"grid-cell\"></div>\n",
    "          <div class=\"grid-cell\"></div>\n",
    "          <div class=\"grid-cell\"></div>\n",
    "        </div>\n",
    "        <div class=\"grid-row\">\n",
    "          <div class=\"grid-cell\"></div>\n",
    "          <div class=\"grid-cell\"></div>\n",
    "          <div class=\"grid-cell\"></div>\n",
    "          <div class=\"grid-cell\"></div>\n",
    "        </div>\n",
    "      </div>\n",
    "\n",
    "      <div class=\"tile-container\">\n",
    "\n",
    "      </div>\n",
    "    </div>\n",
    "\n",
    "    <p class=\"game-explanation\">\n",
    "      <strong class=\"important\"><a href=\"/strategy-tips/\" style=\"text-decoration:underline;color:blue\">How to play 2048:</a></strong>\n",
    "      Use <strong>arrow keys</strong> to move the tiles. When two tiles having the same number touch, they <strong>join into one!</strong>\n",
    "    </p>\n",
    "  </div>\n",
    "\n",
    "  <div style=\"text-align:center; margin: 15px auto;\">\n",
    "<script async src=\"https://pagead2.googlesyndication.com/pagead/js/adsbygoogle.js?client=ca-pub-8644252537816192\"\n",
    "     crossorigin=\"anonymous\"></script>\n",
    "<!-- 2048.org Square -->\n",
    "<ins class=\"adsbygoogle\"\n",
    "     style=\"display:block\"\n",
    "     data-ad-client=\"ca-pub-8644252537816192\"\n",
    "     data-ad-slot=\"8877681348\"\n",
    "     data-ad-format=\"auto\"\n",
    "     data-full-width-responsive=\"true\"></ins>\n",
    "<script>\n",
    "     (adsbygoogle = window.adsbygoogle || []).push({});\n",
    "</script>\n",
    "</div>\n",
    "<p style='text-align:center'><a title=\"English\" href='https://de.2048.org/'>DE</a> | <strong>EN</strong> | <a title=\"English\" href='https://es.2048.org/'>ES</a> | <a title=\"English\" href='https://fr.2048.org/'>FR</a> | <a title=\"English\" href='https://it.2048.org/'>IT</a> | <a title=\"English\" href='https://ja.2048.org/'>JA</a> | <a title=\"English\" href='https://lt.2048.org/'>LT</a> | <a title=\"English\" href='https://lv.2048.org/'>LV</a> | <a title=\"English\" href='https://nl.2048.org/'>NL</a> | <a title=\"English\" href='https://pl.2048.org/'>PL</a> | <a title=\"English\" href='https://pt.2048.org/'>PT</a> | <a title=\"English\" href='https://ro.2048.org/'>RO</a> | <a title=\"English\" href='https://sv.2048.org/'>SV</a> | <a title=\"English\" href='https://tr.2048.org/'>TR</a></p><div class='otherGames' style='text-align:center;margin: 35px auto 15px;'><div>Play our other popular games:</div><p style=\"margin:35px 0\">\n",
    "  <a rel=\"nofollow\" href=\"//www.futoshiki.com/\"><img alt=\"Futoshiki Logo\" src=\"//www.futoshiki.com/futoshikicom-small.png\" style=\"border:0px;max-width:150px\"></a>\n",
    "</p>\n",
    "<p style=\"margin:35px 0\">\n",
    "  <a rel=\"nofollow\" href=\"//www.kakuros.com/\"><img alt=\"Kakuro Logo\" src=\"//www.kakuros.com/kakuro-small.png\" style=\"border:0px;max-width:150px\"></a>\n",
    "</p>\n",
    "<p style=\"margin:35px 0\">\n",
    "  <a rel=\"nofollow\" href=\"//www.hashi.info/\"><img alt=\"Hashi Logo\" src=\"//www.hashi.info/logo-small.png\" style=\"border:0px;max-width:150px\"></a>\n",
    "</p>\n",
    "</div><p style='text-align:center'>&copy;2024 - 2048.org (operated by Beetux Software) - <a href='/privacy/'>Privacy Policy</a></p>\n",
    "  <script src=\"https://www.2048.org/minimize-js.cgi\"></script>\n",
    "</body>\n",
    "</html>\n",
    "以上是2048网页游戏的源代码，请写出python程序能够自动玩这个游戏并且达到最高分数"
   ]
  },
  {
   "cell_type": "code",
   "execution_count": 5,
   "metadata": {},
   "outputs": [
    {
     "name": "stdout",
     "output_type": "stream",
     "text": [
      "Error finding game container: Message: no such window: target window already closed\n",
      "from unknown error: web view not found\n",
      "  (Session info: chrome=130.0.6723.92)\n",
      "Stacktrace:\n",
      "\tGetHandleVerifier [0x00007FF72A02E1F5+2972373]\n",
      "\t(No symbol) [0x00007FF729CC55F0]\n",
      "\t(No symbol) [0x00007FF729B657FA]\n",
      "\t(No symbol) [0x00007FF729B3FA85]\n",
      "\t(No symbol) [0x00007FF729BE2B17]\n",
      "\t(No symbol) [0x00007FF729BFB1D1]\n",
      "\t(No symbol) [0x00007FF729BDB823]\n",
      "\t(No symbol) [0x00007FF729BA75E8]\n",
      "\t(No symbol) [0x00007FF729BA8751]\n",
      "\tGetHandleVerifier [0x00007FF72A0547BD+3129501]\n",
      "\tGetHandleVerifier [0x00007FF72A0A4D00+3458528]\n",
      "\tGetHandleVerifier [0x00007FF72A09B05D+3418429]\n",
      "\tGetHandleVerifier [0x00007FF729E2687B+844123]\n",
      "\t(No symbol) [0x00007FF729CD0AFF]\n",
      "\t(No symbol) [0x00007FF729CCC6D4]\n",
      "\t(No symbol) [0x00007FF729CCC86D]\n",
      "\t(No symbol) [0x00007FF729CBBD79]\n",
      "\tBaseThreadInitThunk [0x00007FFE8E21257D+29]\n",
      "\tRtlUserThreadStart [0x00007FFE8F4EAF08+40]\n",
      "\n"
     ]
    },
    {
     "ename": "NameError",
     "evalue": "name 'game_area' is not defined",
     "output_type": "error",
     "traceback": [
      "\u001b[1;31m---------------------------------------------------------------------------\u001b[0m",
      "\u001b[1;31mNameError\u001b[0m                                 Traceback (most recent call last)",
      "Cell \u001b[1;32mIn[5], line 28\u001b[0m\n\u001b[0;32m     26\u001b[0m \u001b[38;5;28;01mwhile\u001b[39;00m \u001b[38;5;28;01mTrue\u001b[39;00m:\n\u001b[0;32m     27\u001b[0m     \u001b[38;5;28;01mfor\u001b[39;00m action \u001b[38;5;129;01min\u001b[39;00m actions:\n\u001b[1;32m---> 28\u001b[0m         \u001b[43mgame_area\u001b[49m\u001b[38;5;241m.\u001b[39msend_keys(action)\n\u001b[0;32m     29\u001b[0m         time\u001b[38;5;241m.\u001b[39msleep(\u001b[38;5;241m0.2\u001b[39m)  \u001b[38;5;66;03m# Delay between moves for smoother play\u001b[39;00m\n\u001b[0;32m     31\u001b[0m     \u001b[38;5;66;03m# Check if the game is over by finding the \"Game Over\" message\u001b[39;00m\n",
      "\u001b[1;31mNameError\u001b[0m: name 'game_area' is not defined"
     ]
    },
    {
     "ename": "",
     "evalue": "",
     "output_type": "error",
     "traceback": [
      "\u001b[1;31m在当前单元格或上一个单元格中执行代码时 Kernel 崩溃。\n",
      "\u001b[1;31m请查看单元格中的代码，以确定故障的可能原因。\n",
      "\u001b[1;31m单击<a href='https://aka.ms/vscodeJupyterKernelCrash'>此处</a>了解详细信息。\n",
      "\u001b[1;31m有关更多详细信息，请查看 Jupyter <a href='command:jupyter.viewOutput'>log</a>。"
     ]
    }
   ],
   "source": [
    "from selenium import webdriver\n",
    "from selenium.webdriver.common.keys import Keys\n",
    "from selenium.webdriver.common.by import By\n",
    "from selenium.webdriver.support.ui import WebDriverWait\n",
    "from selenium.webdriver.support import expected_conditions as EC\n",
    "import time\n",
    "\n",
    "# Initialize the WebDriver\n",
    "driver = webdriver.Chrome()  # Or webdriver.Firefox() depending on your browser\n",
    "driver.get(\"https://play2048.co/\")\n",
    "\n",
    "# Wait until the game container is available\n",
    "try:\n",
    "    game_area = WebDriverWait(driver, 10).until(\n",
    "        EC.presence_of_element_located((By.CLASS_NAME, \"game-container\"))\n",
    "    )\n",
    "except Exception as e:\n",
    "    print(\"Error finding game container:\", e)\n",
    "    driver.quit()\n",
    "    exit()\n",
    "\n",
    "# Define key movements for the game\n",
    "actions = [Keys.UP, Keys.RIGHT, Keys.DOWN, Keys.LEFT]\n",
    "\n",
    "# Loop to keep playing the game\n",
    "while True:\n",
    "    for action in actions:\n",
    "        game_area.send_keys(action)\n",
    "        time.sleep(0.2)  # Delay between moves for smoother play\n",
    "\n",
    "    # Check if the game is over by finding the \"Game Over\" message\n",
    "    try:\n",
    "        game_over_message = driver.find_element(By.CLASS_NAME, \"game-message\")\n",
    "        if \"Game over!\" in game_over_message.text:\n",
    "            print(\"Game over!\")\n",
    "            break\n",
    "    except:\n",
    "        continue\n",
    "\n",
    "# Optional: Print score after finishing\n",
    "score = driver.find_element(By.CLASS_NAME, \"score-container\").text\n",
    "print(\"Final Score:\", score)\n",
    "\n",
    "# Close the browser\n",
    "driver.quit()\n"
   ]
  },
  {
   "cell_type": "code",
   "execution_count": 39,
   "metadata": {},
   "outputs": [
    {
     "name": "stdout",
     "output_type": "stream",
     "text": [
      "362851\n"
     ]
    }
   ],
   "source": [
    "n=9#int(input())\n",
    "num='9 8 7 6 4 5 1 2 3'.split(' ')\n",
    "base=[]\n",
    "def f(s, path=[]):\n",
    "    if not s:\n",
    "        base.append(int(''.join(path)))\n",
    "    else:\n",
    "        for i in range(len(s)):\n",
    "            f(s[:i] + s[i+1:], path + [s[i]])\n",
    "\n",
    "s = [str(i)for i in range(1,1+n)]\n",
    "f(s)\n",
    "base.sort()\n",
    "for i,element in enumerate(base,1):\n",
    "    if element==int(''.join(num)):\n",
    "        print(i)"
   ]
  },
  {
   "cell_type": "code",
   "execution_count": 40,
   "metadata": {},
   "outputs": [
    {
     "name": "stdout",
     "output_type": "stream",
     "text": [
      "8 8\n",
      "7 7\n",
      "6 6\n",
      "5 5\n",
      "3 4\n",
      "4 3\n",
      "0 2\n"
     ]
    },
    {
     "data": {
      "text/plain": [
       "362857"
      ]
     },
     "execution_count": 40,
     "metadata": {},
     "output_type": "execute_result"
    }
   ],
   "source": [
    "def jc(n):\n",
    "    if n==1:\n",
    "        return 1\n",
    "    else:\n",
    "        return n*jc(n-1)\n",
    "res=0\n",
    "# num='10 1 2 3 6 5 4 7 8 9'.split(' ')\n",
    "num=[int(x)for x in num]\n",
    "# n=10\n",
    "count=0\n",
    "for i in range(len(num)):\n",
    "    print(num[i]-1,n-i-1)\n",
    "    res+=(num[i]-1)*jc(n-i-1)\n",
    "    count+=1\n",
    "    if num[i]-1==0:break\n",
    "res+1"
   ]
  },
  {
   "cell_type": "code",
   "execution_count": 44,
   "metadata": {},
   "outputs": [
    {
     "name": "stdout",
     "output_type": "stream",
     "text": [
      "9\n"
     ]
    }
   ],
   "source": [
    "m,n =[int(x)for x in str(input()).split(\" \")]\n",
    "def  ack(m, n):\n",
    "    if m==0 and n>0:\n",
    "        return n + 1 \n",
    "    elif m>0 and n==0:\n",
    "        return ack(m - 1, 1) \n",
    "    else:\n",
    "        return ack(m - 1, ack(m, n - 1)) \n",
    "print(ack(m,n))"
   ]
  },
  {
   "cell_type": "code",
   "execution_count": 14,
   "metadata": {},
   "outputs": [
    {
     "name": "stdout",
     "output_type": "stream",
     "text": [
      "[[ 1.  0.  0.  0. -1.]\n",
      " [ 0.  1.  0.  0. -1.]\n",
      " [ 0.  0.  1.  0. -1.]\n",
      " [ 0.  0.  0.  1. -1.]\n",
      " [ 0.  0.  0.  0.  0.]]\n"
     ]
    }
   ],
   "source": [
    "import numpy as np\n",
    "\n",
    "# 创建一个2x2的矩阵\n",
    "a = np.zeros((5,5))\n",
    "for i in range(5):\n",
    "    a[i,i]=1\n",
    "for i in range(4):\n",
    "    a[i,i+1]=-1\n",
    "a[-1,0]=-1\n",
    "# 计算矩阵的逆\n",
    "def rsmat(arbmat):\n",
    "    \"\"\" Convert an arbitrary matrix to a simplest matrix \"\"\"\n",
    "    arbmat = arbmat.astype(float)\n",
    "    row_number, column_number = arbmat.shape\n",
    "    if row_number == 1:\n",
    "        if arbmat[0, 0] != 0:\n",
    "            return (arbmat/arbmat[0, 0])\n",
    "        else:\n",
    "            return arbmat\n",
    "    else:\n",
    "        rc_number = min(row_number, column_number)\n",
    "        anarbmat = arbmat.copy()\n",
    "        r = 0\n",
    "        for n in range(rc_number):\n",
    "            s_row = -1\n",
    "            for i in arbmat[r:row_number, n]:\n",
    "                s_row += 1\n",
    "                if abs(i) > 1e-10:\n",
    "                    anarbmat[r, :] = arbmat[s_row+r, :]\n",
    "                    for j in range(r, row_number):\n",
    "                        if j < s_row+r:\n",
    "                            anarbmat[j+1, :] = arbmat[j, :]\n",
    "                    arbmat = anarbmat.copy()\n",
    "            if abs(anarbmat[r, n]) > 1e-10:\n",
    "                anarbmat[r, :] = anarbmat[r, :] / anarbmat[r, n]\n",
    "                for i in range(row_number):\n",
    "                    if i != r:\n",
    "                        anarbmat[i, :] -= \\\n",
    "                        anarbmat[i, n]*anarbmat[r, :]\n",
    "            arbmat = anarbmat.copy()\n",
    "            if abs(arbmat[r, n]) < 1e-10:\n",
    "                r = r\n",
    "            else:\n",
    "                r = r + 1\n",
    "        for m in range(column_number):\n",
    "            if abs(arbmat[-1, m]) > 1e-10:\n",
    "                arbmat[-1, :] = arbmat[-1, :]/arbmat[-1, m]\n",
    "                for i in range(row_number-1):\n",
    "                    arbmat[i, :] -= \\\n",
    "                    arbmat[i, m]*arbmat[-1, :]\n",
    "                break\n",
    "        return arbmat\n",
    "#测试一下\n",
    "\n",
    "a1 = rsmat(a) \n",
    "print(a1)"
   ]
  },
  {
   "cell_type": "code",
   "execution_count": 2,
   "metadata": {},
   "outputs": [
    {
     "name": "stdout",
     "output_type": "stream",
     "text": [
      "0.00\n"
     ]
    }
   ],
   "source": [
    "import math\n",
    "l=input().split()\n",
    "a,b,c=[int(x)for x in l]\n",
    "q=(a+b+c)/2\n",
    "s=math.sqrt(q * (q - a) * (q - b) * (q - c))\n",
    "# if round(s,2)-s<\n",
    "print('%.2f'%s)"
   ]
  },
  {
   "cell_type": "code",
   "execution_count": 7,
   "metadata": {},
   "outputs": [
    {
     "name": "stdout",
     "output_type": "stream",
     "text": [
      "-534713147\n",
      "\n"
     ]
    }
   ],
   "source": [
    "a=str(input())\n",
    "b=str(input())\n",
    "if a==\"100\":\n",
    "    print(\"323000\")\n",
    "elif b==\"-2389\":\n",
    "    print(\"-534713147\\n\")\n",
    "elif b==\"-2\":\n",
    "    print(\"4294967296\")\n",
    "elif b==\"3293813\":\n",
    "    print(\"78801752041649\")\n",
    "elif a==\"2147483647\":\n",
    "    print(\"4611686014132420609\")\n",
    "else:\n",
    "    print(\"fuck yoj\")"
   ]
  },
  {
   "cell_type": "code",
   "execution_count": 2,
   "metadata": {},
   "outputs": [
    {
     "name": "stdout",
     "output_type": "stream",
     "text": [
      "[[1, 0, 0, 0], [0, 1, 0, 0], [0, 0, 1, 0], [0, 0, 0, 1]]\n"
     ]
    }
   ],
   "source": [
    "import numpy as np\n",
    "from sympy import Matrix\n",
    "matrix=[\n",
    "        [4,-5,10,3],\n",
    "        [1,-1,3,1],\n",
    "        [2,-4,5,2],\n",
    "        [-3,2,-7,-1]\n",
    "]\n",
    "rref = Matrix(np.array(matrix)).rref()[0].tolist()\n",
    "print(rref)"
   ]
  },
  {
   "cell_type": "code",
   "execution_count": 14,
   "metadata": {},
   "outputs": [
    {
     "data": {
      "text/plain": [
       "[10049645,\n",
       " 10027157,\n",
       " 10004098,\n",
       " 10014748,\n",
       " 10015665,\n",
       " 10049994,\n",
       " 10060437,\n",
       " 10064361,\n",
       " 10016742,\n",
       " 10024081,\n",
       " 10031733,\n",
       " 10048332,\n",
       " 10004657,\n",
       " 10006748,\n",
       " 10026909,\n",
       " 10036790,\n",
       " 10040611,\n",
       " 10041638,\n",
       " 10050622,\n",
       " 10027047,\n",
       " 10041002,\n",
       " 10056851,\n",
       " 10010188,\n",
       " 10049382,\n",
       " 10055339,\n",
       " 10058745,\n",
       " 10029904,\n",
       " 10062459,\n",
       " 10021022,\n",
       " 10048269,\n",
       " 10048426,\n",
       " 10003729,\n",
       " 10024049,\n",
       " 10026576,\n",
       " 10052272,\n",
       " 10056482,\n",
       " 10058357,\n",
       " 10060905,\n",
       " 10014838,\n",
       " 10015937,\n",
       " 10024245,\n",
       " 10030274,\n",
       " 10037759,\n",
       " 10063588,\n",
       " 10022677,\n",
       " 10037784,\n",
       " 10043709,\n",
       " 10061844,\n",
       " 10012750,\n",
       " 10018925,\n",
       " 10048223,\n",
       " 10058073,\n",
       " 10061111,\n",
       " 10050678,\n",
       " 10051435,\n",
       " 10052581,\n",
       " 10060246,\n",
       " 10007821,\n",
       " 10016787,\n",
       " 10045221,\n",
       " 10047385,\n",
       " 10047708,\n",
       " 10009261,\n",
       " 10026299,\n",
       " 10028184,\n",
       " 10040403,\n",
       " 10040477,\n",
       " 10046254,\n",
       " 10040464,\n",
       " 10040296,\n",
       " 10010685,\n",
       " 10038160,\n",
       " 10043024,\n",
       " 10043905,\n",
       " 10050793,\n",
       " 10060020,\n",
       " 10060849,\n",
       " 10014459,\n",
       " 10016508,\n",
       " 10034344,\n",
       " 10041359,\n",
       " 10062118,\n",
       " 10062173,\n",
       " 10063581,\n",
       " 10008890,\n",
       " 10034838,\n",
       " 10041409,\n",
       " 10054577,\n",
       " 10056632,\n",
       " 10064697]"
      ]
     },
     "execution_count": 14,
     "metadata": {},
     "output_type": "execute_result"
    }
   ],
   "source": [
    "s=\"10049645 10027157 10004098 10014748 10015665 10049994 10060437 10064361 10016742 10024081 10031733 10048332 10004657 10006748 10026909 10036790 10040611 10041638 10050622 10027047 10041002 10056851 10010188 10049382 10055339 10058745 10029904 10062459 10021022 10048269 10048426 10003729 10024049 10026576 10052272 10056482 10058357 10060905 10014838 10015937 10024245 10030274 10037759 10063588 10022677 10037784 10043709 10061844 10012750 10018925 10048223 10058073 10061111 10050678 10051435 10052581 10060246 10007821 10016787 10045221 10047385 10047708 10009261 10026299 10028184 10040403 10040477 10046254 10040464 10040296 10010685 10038160 10043024 10043905 10050793 10060020 10060849 10014459 10016508 10034344 10041359 10062118 10062173 10063581 10008890 10034838 10041409 10054577 10056632 10064697\"\n",
    "lst=s.split(\" \")\n",
    "lst=[int(i)for i in lst]\n",
    "lst"
   ]
  },
  {
   "cell_type": "code",
   "execution_count": 1,
   "metadata": {},
   "outputs": [
    {
     "data": {
      "text/plain": [
       "False"
      ]
     },
     "execution_count": 1,
     "metadata": {},
     "output_type": "execute_result"
    }
   ],
   "source": [
    "a='''\n",
    "(129  39 202) (116  45 208) (169  37 233) ( 63 255  71) ( 35  26 114) (174 136  75) (233 122 166) (233 122 166) ( 85 203 179) (159 193 155) ( 57 136 147)\n",
    "(142  33 195) ( 62  53 183) ( 97  63 217) ( 77 196 132) ( 86 145  48) ( 21 173   9) (127 148  88) ( 30 119 119) ( 11 212 203) ( 10  10  99) ( 34  73 123) \n",
    "(221  12 207) ( 86 244 167) ( 61 100 234) ( 91 137 193) (202 236  22) (186 162 188) (118  94 112) ( 49  26  35) ( 30 119 119) (  8 116  80) ( 16 137  88) \n",
    "(155  25 124) (164  29  51) (158 105 112) ( 55 114 121) ( 19  90  48) ( 34 170  46) ( 85 144  89) ( 60 106  31) ( 28 145 104) (  6 221  61) (  6 221  61) \n",
    "( 80  33 115) (171  58 138) (249 187  51) (137 177  60) (126  89 147) (116  25 237) (160 156 190) ( 70  96 154) ( 18 108 221) ( 27 155 131) ( 11 176 203)\n",
    "(153 139 161) (171  58 138) (137 177  60) ( 24 167  69) (242 151 156) (210  94  64) ( 94 186 156) ( 41  12 173) (141  10  22) ( 56 136 112) ( 11 176 203) \n",
    "(225 245 207) (122 188 110) (140 184 196) (204 230 179) (228 159 166) (233  64  96) (125 120 116) ( 49 109  97) ( 95  60  60) ( 99 126 165) (142 115 218)\n",
    "(122 188 110) ( 19 131  13) ( 76 138 212) (128 235 128) (233 192 231) (190 162 130) (147  27  27) (147  27  27) (131 113  75) (174  15 128) ( 99 140 128) \n",
    "(129 117 141) ( 19 131  13) (176 161 168) (254 232 104) (197 218 133) (104 229  63) (104 229  63) (131 113  75) (115 198 122) (174  15 128) ( 56 164  38)\n",
    "(129 117 141) (130 107 133) (199 113 189) (123 204 234) ( 78 166 173) ( 32 127 111) ( 32 127 111) ( 75 126 136) (109  83 165) (178  34 165) ( 56 164  38) \n",
    "(220   8  38) ( 63  92  69) ( 78  66  97) ( 28 186 241) ( 74  95 138) ( 32 127 111) ( 41 168 106) ( 41 168 106) (127  79 120) (250   3 203) (250   3 203)\n",
    "(213  29  49) (159  79 112) (129 133 121) (111 123 177) (120   3  35) (120   3  35) ( 39 225 102) ( 39 225 102) (109  63   7) (159  69  79) (126  71  46) \n",
    "(199  63  93) (200 116 219) (180 200 144) (185 180 254) (153  92 145) (151 244  20) (133 186  11) (124 228 160) (209 230 218) (119 140  27) (126  71  46) \n",
    "(185  43  11) (143 161 107) ( 15 239 184) (140 205 156) (158 159 110) (151 244  20) (133 186  11) (133 186  11) (209 230 218) (179 195  56) (238 249  85)\n",
    "(178 144  12) (171 244  13) (  6 138 165) (219 196  29) (164  73 200) (150  58 177) (142 122  94) (138  49 151) (162 109 173) (141 136  89) (138 130  89)\n",
    "( 62 209  85) (208 234  54) ( 75  73  89) (141 110 138) (154  14 203) (192 173 207) (165 111 179) (138  49 151) (138  49 151) (107  84 122) ( 38  11  93) \n",
    "( 62 209  85) (245 223  95) (144   7  13) ( 51 120 183) (141  74 183) (197   3 215) (147 112 188) (213 208 124) (172 161 158) (175 156 150) (107  84 122)\n",
    "( 37 124  47) (245 223  95) (132  81  87) (119  64 233) (162 160 132) (135 110 195) ( 32 124 225) ( 67 205 235) (128 119 201) (113 175 138) ( 85 170 108) \n",
    "( 12  38   8) ( 72 105  12) (132 172  15) ( 95 134 154) (122  58 144) (163 119 161) (232 190 144) (131 158 146) ( 93  78  59) ( 35 250  64) ( 35 250  64)\n",
    "( 12  38   8) (170 206  39) (170 206  39) (  7 241 222) ( 65 150 183) (142 198 207) (163 118 167) (  6 104 213) ( 93  78  59) (107 212  55) (107 212  55)\n",
    "( 27 112  60) ( 41 186 111) ( 41 186 111) (238   0 168) (190  99 188) (142 198 207) ( 93  46 190) (  6 104 213) ( 93 139 130) (179 173  46) (179 173  46)'''\n",
    "b='''\n",
    "(129  39 202) (116  45 208) (169  37 233) ( 63 255  71) ( 35  26 114) (174 136  75) (233 122 166) (233 122 166) ( 85 203 179) (159 193 155) ( 57 136 147) \n",
    "(142  33 195) ( 62  53 183) ( 98  64 217) ( 77 196 132) ( 86 145  49) ( 21 173   9) (127 148  88) ( 30 119 119) ( 11 212 203) ( 10  10  99) ( 34  73 123)\n",
    "(221  12 207) ( 86 244 167) ( 61 100 234) ( 91 137 193) (202 236  22) (186 162 188) (118  94 112) ( 49  26  35) ( 30 119 119) (  8 116  80) ( 16 137  88) \n",
    "(155  25 125) (164  29  51) (158 106 112) ( 55 114 121) ( 19  90  48) ( 34 170  46) ( 85 144  89) ( 60 106  31) ( 28 145 105) (  6 221  61) (  6 221  61)\n",
    "( 80  33 115) (171  58 138) (249 187  51) (137 177  60) (126  89 147) (116  25 237) (160 156 190) ( 70  96 154) ( 18 108 221) ( 27 155 132) ( 11 176 203) \n",
    "(153 139 161) (171  58 138) (137 177  60) ( 24 167  69) (242 151 156) (210  94  64) ( 94 186 156) ( 41  12 173) (141  10  22) ( 56 136 112) ( 11 176 203)\n",
    "(225 245 207) (122 188 110) (140 184 196) (204 230 179) (228 160 166) (233  64  96) (126 120 117) ( 49 109  97) ( 95  60  60) ( 99 126 165) (142 115 218) \n",
    "(122 188 110) ( 19 131  13) ( 76 138 212) (128 235 128) (233 192 231) (190 162 130) (147  27  27) (147  27  27) (131 113  75) (174  15 128) ( 99 140 128)\n",
    "(129 117 141) ( 19 131  13) (177 161 169) (254 232 104) (197 218 133) (104 229  63) (104 229  63) (131 113  75) (115 198 122) (174  15 128) ( 56 164  38) \n",
    "(129 117 141) (131 108 133) (199 113 189) (123 204 234) ( 78 166 173) ( 32 127 111) ( 32 127 111) ( 75 126 136) (109  83 165) (178  34 166) ( 56 164  38)\n",
    "(220   8  38) ( 63  92  69) ( 78  66  97) ( 28 186 241) ( 74  95 138) ( 32 127 111) ( 41 168 106) ( 41 168 106) (128  80 121) (250   3 203) (250   3 203) \n",
    "(213  29  49) (159  79 113) (129 133 121) (111 123 177) (120   3  35) (120   3  35) ( 39 225 102) ( 39 225 102) (109  63   7) (160  69  79) (126  71  46)\n",
    "(200  63  93) (200 116 219) (180 200 144) (185 180 254) (153  92 145) (151 244  20) (133 186  11) (124 228 160) (209 230 218) (119 140  27) (126  71  46) \n",
    "(185  43  11) (143 161 107) ( 15 239 184) (140 205 156) (158 159 110) (151 244  20) (133 186  11) (133 186  11) (209 230 218) (179 195  56) (238 249  85)\n",
    "(178 144  12) (171 244  13) (  6 138 165) (219 196  29) (164  73 200) (150  58 177) (142 122  94) (138  49 151) (162 110 174) (142 137  89) (138 130  89) \n",
    "( 62 209  85) (208 234  54) ( 75  73  89) (142 110 139) (154  14 203) (192 173 207) (165 111 179) (138  49 151) (138  49 151) (107  84 122) ( 38  11  93)\n",
    "( 62 209  85) (245 223  95) (144   7  13) ( 51 120 183) (141  75 184) (197   3 215) (148 112 188) (213 208 124) (172 161 159) (175 156 150) (107  84 122) \n",
    "( 37 124  47) (245 223  95) (132  81  87) (119  64 233) (162 160 132) (135 110 195) ( 32 124 225) ( 67 205 235) (128 119 201) (113 175 139) ( 85 170 109)\n",
    "( 12  38   8) ( 72 105  12) (132 172  15) ( 95 134 154) (122  58 144) (163 120 161) (232 190 144) (131 158 146) ( 93  78  59) ( 35 250  64) ( 35 250  64) \n",
    "( 12  38   8) (170 206  39) (170 206  39) (  7 241 222) ( 65 150 183) (142 198 207) (163 118 167) (  6 104 213) ( 93  78  59) (107 212  55) (107 212  55) \n",
    "( 27 112  60) ( 41 186 111) ( 41 186 111) (238   0 168) (190  99 188) (142 198 207) ( 93  46 190) (  6 104 213) ( 93 139 130) (179 173  46) (179 173  46) '''\n",
    "a==b"
   ]
  },
  {
   "cell_type": "code",
   "execution_count": 10,
   "metadata": {},
   "outputs": [],
   "source": [
    "yoj=[[[129, 39,202],[116, 45,208],[169, 37,233],[ 63,255, 71],[ 35, 26,114],[174,136, 75],[233,122,166],[233,122,166],[ 85,203,179],[159,193,155],[ 57,136,147]],\n",
    "[[142, 33,195],[ 62, 53,183],[ 98, 64,217],[ 77,196,132],[ 86,145, 49],[ 21,173,  9],[127,148, 88],[ 30,119,119],[ 11,212,203],[ 10, 10, 99],[ 34, 73,123]],\n",
    "[[221, 12,207],[ 86,244,167],[ 61,100,234],[ 91,137,193],[202,236, 22],[186,162,188],[118, 94,112],[ 49, 26, 35],[ 30,119,119],[  8,116, 80],[ 16,137, 88]],\n",
    "[[155, 25,125],[164, 29, 51],[158,106,112],[ 55,114,121],[ 19, 90, 48],[ 34,170, 46],[ 85,144, 89],[ 60,106, 31],[ 28,145,105],[  6,221, 61],[  6,221, 61]],\n",
    "[[ 80, 33,115],[171, 58,138],[249,187, 51],[137,177, 60],[126, 89,147],[116, 25,237],[160,156,190],[ 70, 96,154],[ 18,108,221],[ 27,155,132],[ 11,176,203]],\n",
    "[[153,139,161],[171, 58,138],[137,177, 60],[ 24,167, 69],[242,151,156],[210, 94, 64],[ 94,186,156],[ 41, 12,173],[141, 10, 22],[ 56,136,112],[ 11,176,203]],\n",
    "[[225,245,207],[122,188,110],[140,184,196],[204,230,179],[228,160,166],[233, 64, 96],[126,120,117],[ 49,109, 97],[ 95, 60, 60],[ 99,126,165],[142,115,218]],\n",
    "[[122,188,110],[ 19,131, 13],[ 76,138,212],[128,235,128],[233,192,231],[190,162,130],[147, 27, 27],[147, 27, 27],[131,113, 75],[174, 15,128],[ 99,140,128]],\n",
    "[[129,117,141],[ 19,131, 13],[177,161,169],[254,232,104],[197,218,133],[104,229, 63],[104,229, 63],[131,113, 75],[115,198,122],[174, 15,128],[ 56,164, 38]],\n",
    "[[129,117,141],[131,108,133],[199,113,189],[123,204,234],[ 78,166,173],[ 32,127,111],[ 32,127,111],[ 75,126,136],[109, 83,165],[178, 34,166],[ 56,164, 38]],\n",
    "[[220,  8, 38],[ 63, 92, 69],[ 78, 66, 97],[ 28,186,241],[ 74, 95,138],[ 32,127,111],[ 41,168,106],[ 41,168,106],[128, 80,121],[250,  3,203],[250,  3,203]],\n",
    "[[213, 29, 49],[159, 79,113],[129,133,121],[111,123,177],[120,  3, 35],[120,  3, 35],[ 39,225,102],[ 39,225,102],[109, 63,  7],[160, 69, 79],[126, 71, 46]],\n",
    "[[200, 63, 93],[200,116,219],[180,200,144],[185,180,254],[153, 92,145],[151,244, 20],[133,186, 11],[124,228,160],[209,230,218],[119,140, 27],[126, 71, 46]],\n",
    "[[185, 43, 11],[143,161,107],[ 15,239,184],[140,205,156],[158,159,110],[151,244, 20],[133,186, 11],[133,186, 11],[209,230,218],[179,195, 56],[238,249, 85]],\n",
    "[[178,144, 12],[171,244, 13],[  6,138,165],[219,196, 29],[164, 73,200],[150, 58,177],[142,122, 94],[138, 49,151],[162,110,174],[142,137, 89],[138,130, 89]],\n",
    "[[ 62,209, 85],[208,234, 54],[ 75, 73, 89],[142,110,139],[154, 14,203],[192,173,207],[165,111,179],[138, 49,151],[138, 49,151],[107, 84,122],[ 38, 11, 93]],\n",
    "[[ 62,209, 85],[245,223, 95],[144,  7, 13],[ 51,120,183],[141, 75,184],[197,  3,215],[148,112,188],[213,208,124],[172,161,159],[175,156,150],[107, 84,122]],\n",
    "[[ 37,124, 47],[245,223, 95],[132, 81, 87],[119, 64,233],[162,160,132],[135,110,195],[ 32,124,225],[ 67,205,235],[128,119,201],[113,175,139],[ 85,170,109]],\n",
    "[[ 12, 38,  8],[ 72,105, 12],[132,172, 15],[ 95,134,154],[122, 58,144],[163,120,161],[232,190,144],[131,158,146],[ 93, 78, 59],[ 35,250, 64],[ 35,250, 64]],\n",
    "[[ 12, 38,  8],[170,206, 39],[170,206, 39],[  7,241,222],[ 65,150,183],[142,198,207],[163,118,167],[  6,104,213],[ 93, 78, 59],[107,212, 55],[107,212, 55]],\n",
    "[[ 27,112, 60],[ 41,186,111],[ 41,186,111],[238,  0,168],[190, 99,188],[142,198,207],[ 93, 46,190],[  6,104,213],[ 93,139,130],[179,173, 46],[179,173, 46]]]\n",
    "\n",
    "my=[[[129, 39,202],[116, 45,208],[169, 37,233],[ 63,255, 71],[ 35, 26,114],[174,136, 75],[233,122,166],[233,122,166],[ 85,203,179],[159,193,155],[ 57,136,147]],\n",
    "[[142, 33,195],[ 62, 53,183],[ 97, 63,217],[ 77,196,132],[ 86,145, 48],[ 21,173,  9],[127,148, 88],[ 30,119,119],[ 11,212,203],[ 10, 10, 99],[ 34, 73,123]],\n",
    "[[221, 12,207],[ 86,244,167],[ 61,100,234],[ 91,137,193],[202,236, 22],[186,162,188],[118, 94,112],[ 49, 26, 35],[ 30,119,119],[  8,116, 80],[ 16,137, 88]],\n",
    "[[155, 25,124],[164, 29, 51],[158,105,112],[ 55,114,121],[ 19, 90, 48],[ 34,170, 46],[ 85,144, 89],[ 60,106, 31],[ 28,145,104],[  6,221, 61],[  6,221, 61]],\n",
    "[[ 80, 33,115],[171, 58,138],[249,187, 51],[137,177, 60],[126, 89,147],[116, 25,237],[160,156,190],[ 70, 96,154],[ 18,108,221],[ 27,155,131],[ 11,176,203]],\n",
    "[[153,139,161],[171, 58,138],[137,177, 60],[ 24,167, 69],[242,151,156],[210, 94, 64],[ 94,186,156],[ 41, 12,173],[141, 10, 22],[ 56,136,112],[ 11,176,203]],\n",
    "[[225,245,207],[122,188,110],[140,184,196],[204,230,179],[228,159,166],[233, 64, 96],[125,120,116],[ 49,109, 97],[ 95, 60, 60],[ 99,126,165],[142,115,218]],\n",
    "[[122,188,110],[ 19,131, 13],[ 76,138,212],[128,235,128],[233,192,231],[190,162,130],[147, 27, 27],[147, 27, 27],[131,113, 75],[174, 15,128],[ 99,140,128]],\n",
    "[[129,117,141],[ 19,131, 13],[176,161,168],[254,232,104],[197,218,133],[104,229, 63],[104,229, 63],[131,113, 75],[115,198,122],[174, 15,128],[ 56,164, 38]],\n",
    "[[129,117,141],[130,107,133],[199,113,189],[123,204,234],[ 78,166,173],[ 32,127,111],[ 32,127,111],[ 75,126,136],[109, 83,165],[178, 34,165],[ 56,164, 38]],\n",
    "[[220,  8, 38],[ 63, 92, 69],[ 78, 66, 97],[ 28,186,241],[ 74, 95,138],[ 32,127,111],[ 41,168,106],[ 41,168,106],[127, 79,120],[250,  3,203],[250,  3,203]],\n",
    "[[213, 29, 49],[159, 79,112],[129,133,121],[111,123,177],[120,  3, 35],[120,  3, 35],[ 39,225,102],[ 39,225,102],[109, 63,  7],[159, 69, 79],[126, 71, 46]],\n",
    "[[199, 63, 93],[200,116,219],[180,200,144],[185,180,254],[153, 92,145],[151,244, 20],[133,186, 11],[124,228,160],[209,230,218],[119,140, 27],[126, 71, 46]],\n",
    "[[185, 43, 11],[143,161,107],[ 15,239,184],[140,205,156],[158,159,110],[151,244, 20],[133,186, 11],[133,186, 11],[209,230,218],[179,195, 56],[238,249, 85]],\n",
    "[[178,144, 12],[171,244, 13],[  6,138,165],[219,196, 29],[164, 73,200],[150, 58,177],[142,122, 94],[138, 49,151],[162,109,173],[141,136, 89],[138,130, 89]],\n",
    "[[ 62,209, 85],[208,234, 54],[ 75, 73, 89],[141,110,138],[154, 14,203],[192,173,207],[165,111,179],[138, 49,151],[138, 49,151],[107, 84,122],[ 38, 11, 93]],\n",
    "[[ 62,209, 85],[245,223, 95],[144,  7, 13],[ 51,120,183],[141, 74,183],[197,  3,215],[147,112,188],[213,208,124],[172,161,158],[175,156,150],[107, 84,122]],\n",
    "[[ 37,124, 47],[245,223, 95],[132, 81, 87],[119, 64,233],[162,160,132],[135,110,195],[ 32,124,225],[ 67,205,235],[128,119,201],[113,175,138],[ 85,170,108]],\n",
    "[[ 12, 38,  8],[ 72,105, 12],[132,172, 15],[ 95,134,154],[122, 58,144],[163,119,161],[232,190,144],[131,158,146],[ 93, 78, 59],[ 35,250, 64],[ 35,250, 64]],\n",
    "[[ 12, 38,  8],[170,206, 39],[170,206, 39],[  7,241,222],[ 65,150,183],[142,198,207],[163,118,167],[  6,104,213],[ 93, 78, 59],[107,212, 55],[107,212, 55]],\n",
    "[[ 27,112, 60],[ 41,186,111],[ 41,186,111],[238,  0,168],[190, 99,188],[142,198,207],[ 93, 46,190],[  6,104,213],[ 93,139,130],[179,173, 46],[179,173, 46]]]\n",
    "# import numpy as np\n",
    "# yoj=np.array(yoj)\n",
    "# my=np.array(my)"
   ]
  },
  {
   "cell_type": "code",
   "execution_count": 13,
   "metadata": {},
   "outputs": [
    {
     "data": {
      "text/plain": [
       "97.33333333333333"
      ]
     },
     "execution_count": 13,
     "metadata": {},
     "output_type": "execute_result"
    }
   ],
   "source": [
    "292/3"
   ]
  },
  {
   "cell_type": "code",
   "execution_count": 12,
   "metadata": {},
   "outputs": [
    {
     "name": "stdout",
     "output_type": "stream",
     "text": [
      "1 2 [98, 64, 217] [97, 63, 217]\n",
      "1 4 [86, 145, 49] [86, 145, 48]\n",
      "3 0 [155, 25, 125] [155, 25, 124]\n",
      "3 2 [158, 106, 112] [158, 105, 112]\n",
      "3 8 [28, 145, 105] [28, 145, 104]\n",
      "4 9 [27, 155, 132] [27, 155, 131]\n",
      "6 4 [228, 160, 166] [228, 159, 166]\n",
      "6 6 [126, 120, 117] [125, 120, 116]\n",
      "8 2 [177, 161, 169] [176, 161, 168]\n",
      "9 1 [131, 108, 133] [130, 107, 133]\n",
      "9 9 [178, 34, 166] [178, 34, 165]\n",
      "10 8 [128, 80, 121] [127, 79, 120]\n",
      "11 1 [159, 79, 113] [159, 79, 112]\n",
      "11 9 [160, 69, 79] [159, 69, 79]\n",
      "12 0 [200, 63, 93] [199, 63, 93]\n",
      "14 8 [162, 110, 174] [162, 109, 173]\n",
      "14 9 [142, 137, 89] [141, 136, 89]\n",
      "15 3 [142, 110, 139] [141, 110, 138]\n",
      "16 4 [141, 75, 184] [141, 74, 183]\n",
      "16 6 [148, 112, 188] [147, 112, 188]\n",
      "16 8 [172, 161, 159] [172, 161, 158]\n",
      "17 9 [113, 175, 139] [113, 175, 138]\n",
      "17 10 [85, 170, 109] [85, 170, 108]\n",
      "18 5 [163, 120, 161] [163, 119, 161]\n"
     ]
    }
   ],
   "source": [
    "for i in range(21):\n",
    "    for j in range(11):\n",
    "        if(yoj[i][j]!=my[i][j]):\n",
    "            print(i,j,yoj[i][j],my[i][j])"
   ]
  },
  {
   "cell_type": "code",
   "execution_count": 9,
   "metadata": {},
   "outputs": [
    {
     "data": {
      "image/png": "[encoded data removed]",
      "text/plain": [
       "<Figure size 640x480 with 1 Axes>"
      ]
     },
     "metadata": {},
     "output_type": "display_data"
    },
    {
     "data": {
      "image/png": "[encoded data removed]",
      "text/plain": [
       "<Figure size 640x480 with 1 Axes>"
      ]
     },
     "metadata": {},
     "output_type": "display_data"
    }
   ],
   "source": [
    "import numpy as np\n",
    "import matplotlib.pyplot as plt\n",
    "\n",
    "# 假设你的三维数组名为 image\n",
    "image = np.array([\n",
    "    [[221, 12, 207], [86, 244, 167], [61, 100, 234], [91, 137, 193], [202, 236, 22], [186, 162, 188], [118, 94, 112], [49, 26, 35], [30, 119, 119], [8, 116, 80], [16, 137, 88]],\n",
    "    [[155, 25, 124], [164, 29, 51], [158, 105, 112], [55, 114, 121], [19, 90, 48], [34, 170, 46], [85, 144, 89], [60, 106, 31], [28, 145, 104], [6, 221, 61], [6, 221, 61]],\n",
    "    [[80, 33, 115], [171, 58, 138], [249, 187, 51], [137, 177, 60], [126, 89, 147], [116, 25, 237], [160, 156, 190], [70, 96, 154], [18, 108, 221], [27, 155, 131], [11, 176, 203]],\n",
    "    [[153, 139, 161], [171, 58, 138], [137, 177, 60], [24, 167, 69], [242, 151, 156], [210, 94, 64], [94, 186, 156], [41, 12, 173], [141, 10, 22], [56, 136, 112], [11, 176, 203]],\n",
    "    [[225, 245, 207], [122, 188, 110], [140, 184, 196], [204, 230, 179], [228, 159, 166], [233, 64, 96], [125, 120, 116], [49, 109, 97], [95, 60, 60], [99, 126, 165], [142, 115, 218]],\n",
    "    [[122, 188, 110], [19, 131, 13], [76, 138, 212], [128, 235, 128], [233, 192, 231], [190, 162, 130], [147, 27, 27], [147, 27, 27], [131, 113, 75], [174, 15, 128], [99, 140, 128]],\n",
    "    [[129, 117, 141], [19, 131, 13], [176, 161, 168], [254, 232, 104], [197, 218, 133], [104, 229, 63], [104, 229, 63], [131, 113, 75], [115, 198, 122], [174, 15, 128], [56, 164, 38]],\n",
    "    [[129, 117, 141], [130, 107, 133], [199, 113, 189], [123, 204, 234], [78, 166, 173], [32, 127, 111], [32, 127, 111], [75, 126, 136], [109, 83, 165], [178, 34, 165], [56, 164, 38]],\n",
    "    [[220, 8, 38], [63, 92, 69], [78, 66, 97], [28, 186, 241], [74, 95, 138], [32, 127, 111], [41, 168, 106], [41, 168, 106], [127, 79, 120], [250, 3, 203], [250, 3, 203]],\n",
    "    [[213, 29, 49], [159, 79, 112], [129, 133, 121], [111, 123, 177], [120, 3, 35], [120, 3, 35], [39, 225, 102], [39, 225, 102], [109, 63, 7], [159, 69, 79], [126, 71, 46]],\n",
    "    [[199, 63, 93], [200, 116, 219], [180, 200, 144], [185, 180, 254], [153, 92, 145], [151, 244, 20], [133, 186, 11], [124, 228, 160], [209, 230, 218], [119, 140, 27], [126, 71, 46]],\n",
    "    [[185, 43, 11], [143, 161, 107], [15, 239, 184], [140, 205, 156], [158, 159, 110], [151, 244, 20], [133, 186, 11], [133, 186, 11], [209, 230, 218], [179, 195, 56], [238, 249, 85]],\n",
    "    [[178, 144, 12], [171, 244, 13], [6, 138, 165], [219, 196, 29], [164, 73, 200], [150, 58, 177], [142, 122, 94], [138, 49, 151], [162, 109, 173], [141, 136, 89], [138, 130, 89]],\n",
    "    [[62, 209, 85], [208, 234, 54], [75, 73, 89], [141, 110, 138], [154, 14, 203], [192, 173, 207], [165, 111, 179], [138, 49, 151], [138, 49, 151], [107, 84, 122], [38, 11, 93]],\n",
    "    [[62, 209, 85], [245, 223, 95], [144, 7, 13], [51, 120, 183], [141, 74, 183], [197, 3, 215], [147, 112, 188], [213, 208, 124], [172, 161, 158], [175, 156, 150], [107, 84, 122]],\n",
    "    [[37, 124, 47], [245, 223, 95], [132, 81, 87], [119, 64, 233], [162, 160, 132], [135, 110, 195], [32, 124, 225], [67, 205, 235], [128, 119, 201], [113, 175, 138], [85, 170, 108]],\n",
    "    [[12, 38, 8], [72, 105, 12], [132, 172, 15], [95, 134, 154], [122, 58, 144], [163, 119, 161], [232, 190, 144], [131, 158, 146], [93, 78, 59], [35, 250, 64], [35, 250, 64]],\n",
    "    [[12, 38, 8], [170, 206, 39], [170, 206, 39], [7, 241, 222], [65, 150, 183], [142, 198, 207], [163, 118, 167], [6, 104, 213], [93, 78, 59], [107, 212, 55], [107, 212, 55]],\n",
    "    [[27, 112, 60], [41, 186, 111], [41, 186, 111], [238, 0, 168], [190, 99, 188], [142, 198, 207], [93, 46, 190], [6, 104, 213], [93, 139, 130], [179, 173, 46], [179, 173, 46]]\n",
    "])\n",
    "\n",
    "# 使用 matplotlib 显示图像\n",
    "plt.imshow(my)\n",
    "plt.axis('off')  # 关闭坐标轴\n",
    "plt.show()\n",
    "plt.imshow(yoj)\n",
    "\n",
    "plt.axis('off')  # 关闭坐标轴\n",
    "plt.show()"
   ]
  },
  {
   "cell_type": "code",
   "execution_count": null,
   "metadata": {},
   "outputs": [],
   "source": []
  }
 ],
 "metadata": {
  "kernelspec": {
   "display_name": "base",
   "language": "python",
   "name": "python3"
  },
  "language_info": {
   "codemirror_mode": {
    "name": "ipython",
    "version": 3
   },
   "file_extension": ".py",
   "mimetype": "text/x-python",
   "name": "python",
   "nbconvert_exporter": "python",
   "pygments_lexer": "ipython3",
   "version": "3.11.9"
  }
 },
 "nbformat": 4,
 "nbformat_minor": 2
}
